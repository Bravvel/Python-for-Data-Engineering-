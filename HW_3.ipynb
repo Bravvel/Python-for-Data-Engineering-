{
 "cells": [
  {
   "cell_type": "code",
   "execution_count": 13,
   "id": "f76598d1-641f-4421-a1ee-3e729347bab6",
   "metadata": {},
   "outputs": [
    {
     "name": "stdout",
     "output_type": "stream",
     "text": [
      "Имя владельца аккаунта: Владислав Позигун\n",
      "Баланс: 1000.0\n",
      "Имя владельца аккаунта: Владислав Позигун\n",
      "Баланс: 1500.0\n",
      "Имя владельца аккаунта: Владислав Позигун\n",
      "Баланс: 1300.0\n",
      "Недостаточно средств\n",
      "['Аккаунт создан с начальным балансом: 1000.0', 'Пополнение баланса на сумму: 500.0, Текущий баланс: 1500.0', 'Вывод денежных средств на сумму: 200.0, Текущий баланс: 1300.0']\n",
      "1300.0\n"
     ]
    }
   ],
   "source": [
    "class Account:\n",
    "    def __init__(self, owner_name: str, balance: float):\n",
    "        self.owner_name = owner_name\n",
    "        self.balance = balance\n",
    "        self.history = []\n",
    "\n",
    "        self.history.append(f\"Аккаунт создан с начальным балансом: {balance}\")\n",
    "\n",
    "    def deposit(self, amount: float):\n",
    "        if amount > 0:\n",
    "            self.balance += amount\n",
    "            self.history.append(f\"Пополнение баланса на сумму: {amount}, Текущий баланс: {self.balance}\")\n",
    "        else:\n",
    "            print(\"Сумма пополнения баланса должна быть положительной\")\n",
    "    \n",
    "    def withdraw(self, amount: float):\n",
    "        if amount > 0:\n",
    "            if amount <= self.balance:\n",
    "                self.balance -= amount\n",
    "                self.history.append(f\"Вывод денежных средств на сумму: {amount}, Текущий баланс: {self.balance}\")\n",
    "            else:\n",
    "                print(\"Недостаточно средств\")\n",
    "        else:\n",
    "            print(\"Сумма вывода денежных средств должна быть положительной\")\n",
    "    \n",
    "    def get_history(self):\n",
    "        return self.history\n",
    "        \n",
    "    def get_balance(self):\n",
    "        return self.balance\n",
    "        \n",
    "    def __str__(self):\n",
    "        return (f\"Имя владельца аккаунта: {self.owner_name}\\n\"\n",
    "                f\"Баланс: {self.balance}\")    \n",
    "        \n",
    "if __name__ == \"__main__\":\n",
    "    account = Account(\"Владислав Позигун\", 1000.0)\n",
    "    print(account)\n",
    "\n",
    "    account.deposit(500.0)\n",
    "    print(account)\n",
    "\n",
    "    account.withdraw(200.0)\n",
    "    print(account)\n",
    "\n",
    "    account.withdraw(1500.0)\n",
    "    print(account.get_history())\n",
    "    print(account.get_balance())\n"
   ]
  },
  {
   "cell_type": "code",
   "execution_count": null,
   "id": "c8e46823-0b41-49ca-9cd6-cf4851f22d4a",
   "metadata": {},
   "outputs": [],
   "source": []
  }
 ],
 "metadata": {
  "kernelspec": {
   "display_name": "Python 3 (ipykernel)",
   "language": "python",
   "name": "python3"
  },
  "language_info": {
   "codemirror_mode": {
    "name": "ipython",
    "version": 3
   },
   "file_extension": ".py",
   "mimetype": "text/x-python",
   "name": "python",
   "nbconvert_exporter": "python",
   "pygments_lexer": "ipython3",
   "version": "3.12.4"
  }
 },
 "nbformat": 4,
 "nbformat_minor": 5
}
