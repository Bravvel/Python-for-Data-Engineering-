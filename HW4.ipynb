{
 "cells": [
  {
   "cell_type": "code",
   "execution_count": 64,
   "id": "c83771f2-5a79-4cc7-b3e3-6517eb487b62",
   "metadata": {},
   "outputs": [
    {
     "name": "stdout",
     "output_type": "stream",
     "text": [
      "Номер: А222BС96 валиден. Регион: С96.\n"
     ]
    }
   ],
   "source": [
    "import re\n",
    "\n",
    "def validate_car_number(car_number):\n",
    "  pattern = r'^[АВЕКМНОРСТУХABEKMHOPCTYX]\\d{3}[АВЕКМНОРСТУХABEKMHOPCTYX]{2}\\d{2,3}$'\n",
    "\n",
    "  match = re.match(pattern, car_number)\n",
    "\n",
    "  if match:\n",
    "    number = match.group()\n",
    "    region = number[-3:]\n",
    "    return number, region\n",
    "  else:\n",
    "    return None, None\n",
    "\n",
    "car_number1 = \"А222BС96\"\n",
    "car_number2 = \"АБ22ВВ193\"\n",
    "number, region = validate_car_number(car_number1)\n",
    "\n",
    "if number:\n",
    "  print(f\"Номер: {number} валиден. Регион: {region}.\")\n",
    "else:\n",
    "  print(\"Номер не валиден\")\n"
   ]
  },
  {
   "cell_type": "code",
   "execution_count": null,
   "id": "762b1acc-c47e-4289-ac89-85f281d08031",
   "metadata": {},
   "outputs": [],
   "source": []
  },
  {
   "cell_type": "code",
   "execution_count": null,
   "id": "34ff24a6-6a7d-4e1c-9f33-d0e877ec4300",
   "metadata": {},
   "outputs": [],
   "source": []
  },
  {
   "cell_type": "code",
   "execution_count": null,
   "id": "e09240c3-fb48-48f9-a647-d737ad0a5398",
   "metadata": {},
   "outputs": [],
   "source": []
  }
 ],
 "metadata": {
  "kernelspec": {
   "display_name": "Python 3 (ipykernel)",
   "language": "python",
   "name": "python3"
  },
  "language_info": {
   "codemirror_mode": {
    "name": "ipython",
    "version": 3
   },
   "file_extension": ".py",
   "mimetype": "text/x-python",
   "name": "python",
   "nbconvert_exporter": "python",
   "pygments_lexer": "ipython3",
   "version": "3.12.4"
  }
 },
 "nbformat": 4,
 "nbformat_minor": 5
}
