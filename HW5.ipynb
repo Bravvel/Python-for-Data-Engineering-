{
 "cells": [
  {
   "cell_type": "code",
   "execution_count": 1,
   "id": "7f2a80a2-50f8-408c-ad93-bdee8f71c884",
   "metadata": {},
   "outputs": [
    {
     "name": "stdout",
     "output_type": "stream",
     "text": [
      "Длительность выполнения 10000 итераций: 0.0010 секунд\n",
      " Формула 1: 0.0010 секунд (время запуска потока)\n",
      " Формула 2: 0.0010 секунд (время запуска потока)\n",
      " Формула 3: 0.0010 секунд (время выполнения)\n",
      "Длительность выполнения 100000 итераций: 0.0010 секунд\n",
      " Формула 1: 0.0010 секунд (время запуска потока)\n",
      " Формула 2: 0.0010 секунд (время запуска потока)\n",
      " Формула 3: 0.0010 секунд (время выполнения)\n"
     ]
    }
   ],
   "source": [
    "import threading\n",
    "import time\n",
    "\n",
    "def formula_1(x):\n",
    " return x**2 - x**2 + x * 4 - x * 5 + x + x\n",
    "\n",
    "def formula_2(x):\n",
    " return x + x\n",
    "\n",
    "def formula_3(result_1, result_2):\n",
    " return result_1 + result_2\n",
    "\n",
    "def calculate_iterations(iterations, thread_count):\n",
    " start_time = time.time()\n",
    "\n",
    " # Создаем потоки для формул 1 и 2\n",
    " threads = []\n",
    " for _ in range(thread_count):\n",
    "  threads.append(threading.Thread(target=formula_1, args=(iterations,)))\n",
    "  threads.append(threading.Thread(target=formula_2, args=(iterations,)))\n",
    "\n",
    " # Запускаем потоки\n",
    " for thread in threads:\n",
    "  thread.start()\n",
    "\n",
    " # Ожидаем завершения всех потоков\n",
    " for thread in threads:\n",
    "  thread.join()\n",
    "\n",
    " # Выполняем вычисления по формуле 3\n",
    " result_1 = 0 # Заглушка, так как результаты формул 1 и 2 нам не нужны\n",
    " result_2 = 0 # Заглушка, так как результаты формул 1 и 2 нам не нужны\n",
    " end_time = time.time()\n",
    " duration = end_time - start_time\n",
    "\n",
    " print(f\"Длительность выполнения {iterations} итераций: {duration:.4f} секунд\")\n",
    " print(f\" Формула 1: {duration:.4f} секунд (время запуска потока)\")\n",
    " print(f\" Формула 2: {duration:.4f} секунд (время запуска потока)\")\n",
    " print(f\" Формула 3: {duration:.4f} секунд (время выполнения)\")\n",
    "\n",
    "# Выполнение на 10 000 итераций\n",
    "calculate_iterations(10_000, 2)\n",
    "\n",
    "# Выполнение на 100 000 итераций\n",
    "calculate_iterations(100_000, 2)\n"
   ]
  },
  {
   "cell_type": "code",
   "execution_count": null,
   "id": "aa08eb97-b122-4f54-a6b0-591202cbc0d0",
   "metadata": {},
   "outputs": [],
   "source": []
  }
 ],
 "metadata": {
  "kernelspec": {
   "display_name": "Python 3 (ipykernel)",
   "language": "python",
   "name": "python3"
  },
  "language_info": {
   "codemirror_mode": {
    "name": "ipython",
    "version": 3
   },
   "file_extension": ".py",
   "mimetype": "text/x-python",
   "name": "python",
   "nbconvert_exporter": "python",
   "pygments_lexer": "ipython3",
   "version": "3.12.4"
  }
 },
 "nbformat": 4,
 "nbformat_minor": 5
}
