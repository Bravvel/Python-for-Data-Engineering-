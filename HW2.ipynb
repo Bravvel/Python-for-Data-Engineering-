{
 "cells": [
  {
   "cell_type": "code",
   "execution_count": 7,
   "id": "121cf4e9-d0b2-4862-8f24-cd1f0b1fd1d9",
   "metadata": {},
   "outputs": [
    {
     "name": "stdout",
     "output_type": "stream",
     "text": [
      "Дата: 2002-10-02 00:00:00\n",
      "Дата: 2013-10-11 00:00:00\n",
      "Дата: 1977-08-18 00:00:00\n"
     ]
    }
   ],
   "source": [
    "import datetime\n",
    "\n",
    "def parse_date(date_str):\n",
    "    \n",
    "  parts = date_str.split(\" - \")\n",
    "  newspaper = parts[0]\n",
    "  date_part = parts[1]\n",
    "\n",
    "  if newspaper == \"The Moscow Times\":\n",
    "    return datetime.datetime.strptime(date_part, \"%A, %B %d, %Y\")\n",
    "  elif newspaper == \"The Guardian\":\n",
    "    return datetime.datetime.strptime(date_part, \"%A, %d.%m.%y\")\n",
    "  elif newspaper == \"Daily News\":\n",
    "    return datetime.datetime.strptime(date_part, \"%A, %d %B %Y\")\n",
    "  else:\n",
    "    raise ValueError(f\"Неизвестная газета: {newspaper}\")\n",
    "\n",
    "date_string1 = \"The Moscow Times - Wednesday, October 2, 2002\"\n",
    "date_string2 = \"The Guardian - Friday, 11.10.13\"\n",
    "date_string3 = \"Daily News - Thursday, 18 August 1977\" \n",
    "\n",
    "try:\n",
    "  dt = parse_date(date_string1)\n",
    "  print(f\"Дата: {dt}\")\n",
    "  dt = parse_date(date_string2)\n",
    "  print(f\"Дата: {dt}\")\n",
    "  dt = parse_date(date_string3)\n",
    "  print(f\"Дата: {dt}\")    \n",
    "except ValueError as e:\n",
    "  print(f\"Ошибка: {e}\")\n"
   ]
  },
  {
   "cell_type": "code",
   "execution_count": null,
   "id": "fc69fdb1-be68-4477-877b-1373e85a7cd6",
   "metadata": {},
   "outputs": [],
   "source": []
  }
 ],
 "metadata": {
  "kernelspec": {
   "display_name": "Python 3 (ipykernel)",
   "language": "python",
   "name": "python3"
  },
  "language_info": {
   "codemirror_mode": {
    "name": "ipython",
    "version": 3
   },
   "file_extension": ".py",
   "mimetype": "text/x-python",
   "name": "python",
   "nbconvert_exporter": "python",
   "pygments_lexer": "ipython3",
   "version": "3.12.4"
  }
 },
 "nbformat": 4,
 "nbformat_minor": 5
}
